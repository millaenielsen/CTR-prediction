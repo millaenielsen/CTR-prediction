{
  "nbformat": 4,
  "nbformat_minor": 0,
  "metadata": {
    "colab": {
      "provenance": [],
      "gpuType": "A100"
    },
    "kernelspec": {
      "name": "python3",
      "display_name": "Python 3"
    },
    "language_info": {
      "name": "python"
    },
    "accelerator": "GPU"
  },
  "cells": [
    {
      "cell_type": "code",
      "execution_count": null,
      "metadata": {
        "colab": {
          "base_uri": "https://localhost:8080/"
        },
        "id": "YN8SNW3p1Ye6",
        "outputId": "d537d8bb-1f57-49d4-957f-d70b5d0ff38e"
      },
      "outputs": [
        {
          "output_type": "stream",
          "name": "stdout",
          "text": [
            "Mounted at /content/drive\n"
          ]
        }
      ],
      "source": [
        "#Mounting Drive to import the Data\n",
        "\n",
        "from google.colab import drive\n",
        "drive.mount('/content/drive')\n",
        "\n",
        "import pandas as pd\n",
        "train_df = pd.read_csv(\"/content/drive/MyDrive/stats_c161/train_data_ads.csv\")"
      ]
    },
    {
      "cell_type": "code",
      "source": [
        "# Data Preprocessing\n",
        "import pandas as pd\n",
        "\n",
        "#Splitting data into x and y values - predicting label CTR -\n",
        "x_train = train_df[:6140413]\n",
        "x_train = x_train.drop(x_train.columns[:2], axis=1)\n",
        "x_train = x_train.drop(x_train.columns[30:31], axis=1)\n",
        "x_train = x_train.drop(x_train.columns[23:29], axis=1)\n",
        "y_train = train_df[:6140413]\n",
        "y_train = y_train.drop(y_train.columns[:1], axis=1)\n",
        "y_train = y_train.iloc[:, :1]\n",
        "\n",
        "\n",
        "\n",
        "x_test = train_df[6140413:]\n",
        "x_test = x_test.drop(x_test.columns[:2], axis=1)\n",
        "x_test = x_test.drop(x_test.columns[30:31], axis=1)\n",
        "x_test = x_test.drop(x_test.columns[23:29], axis=1)\n",
        "y_test = train_df[6140413:]\n",
        "y_test = y_test.drop(y_test.columns[:1], axis=1)\n",
        "y_test = y_test.iloc[:, :1]\n"
      ],
      "metadata": {
        "id": "bCFNSlzo3vRK"
      },
      "execution_count": null,
      "outputs": []
    },
    {
      "cell_type": "code",
      "source": [
        "# Fitting XGBoost for Classification of CTR - getting mean cross-validated metrics\n",
        "\n",
        "import xgboost as xgb\n",
        "from sklearn.model_selection import StratifiedKFold, GridSearchCV\n",
        "from sklearn.metrics import accuracy_score, roc_auc_score, roc_curve, precision_score, confusion_matrix, recall_score\n",
        "import matplotlib.pyplot as plt\n",
        "import numpy as np\n",
        "\n",
        "X = x_train\n",
        "y = y_train\n",
        "\n",
        "# Initialize the XGBoost classifier with fixed parameters\n",
        "xgb_clf = xgb.XGBClassifier(learning_rate =  0.1, max_depth = 4, n_estimators = 150, objective='binary:logistic', eval_metric='logloss', random_state=404)\n",
        "\n",
        "#Define the parameter grid for GridSearchCV\n",
        "#param_grid = {\n",
        "#    'max_depth': [2, 3, 4],\n",
        "#    'learning_rate': [0.01, 0.1, 0.2],\n",
        "#   'n_estimators': [50, 100, 150]\n",
        "#}\n",
        "\n",
        "# Initialize StratifiedKFold with a fixed random state for reproducibility\n",
        "kf = StratifiedKFold(n_splits=10, shuffle=True, random_state=404)\n",
        "\n",
        "# Initialize GridSearchCV with the classifier, parameter grid, and StratifiedKFold\n",
        "#grid_search = GridSearchCV(estimator=xgb_clf, param_grid=param_grid, cv=kf, scoring='accuracy', n_jobs=-1, verbose=3)\n",
        "\n",
        "# Fit GridSearchCV\n",
        "#grid_search.fit(X, y)\n",
        "#print(\"Best parameters found: \", grid_search.best_params_)\n",
        "#best_xgb_clf = grid_search.best_estimator_\n",
        "best_xgb_clf = xgb_clf\n",
        "\n",
        "# Perform 10-fold cross-validation on the entire dataset with the best estimator\n",
        "accuracy_scores = []\n",
        "roc_auc_scores = []\n",
        "precision_scores = []\n",
        "specificity_scores = []\n",
        "recall_scores = []\n",
        "\n",
        "\n",
        "for train_index, test_index in kf.split(X, y):\n",
        "    X_train, X_test = X.iloc[train_index], X.iloc[test_index]\n",
        "    y_train, y_test = y.iloc[train_index], y.iloc[test_index]\n",
        "\n",
        "    # Fit the best model\n",
        "    best_xgb_clf.fit(X_train, y_train)\n",
        "\n",
        "    # Predict on the test set\n",
        "    y_pred = best_xgb_clf.predict(X_test)\n",
        "    y_pred_proba = best_xgb_clf.predict_proba(X_test)[:, 1]\n",
        "\n",
        "    # Calculate accuracy\n",
        "    accuracy = accuracy_score(y_test, y_pred)\n",
        "    accuracy_scores.append(accuracy)\n",
        "\n",
        "    # Calculate ROC AUC score\n",
        "    roc_auc = roc_auc_score(y_test, y_pred_proba)\n",
        "    roc_auc_scores.append(roc_auc)\n",
        "\n",
        "    # Calculate recall\n",
        "    recall = recall_score(y_test, y_pred)\n",
        "    recall_scores.append(recall)  # Store recall score\n",
        "\n",
        "    # Calculate precision\n",
        "    precision = precision_score(y_test, y_pred)\n",
        "    precision_scores.append(precision)\n",
        "\n",
        "    # Calculate specificity\n",
        "    tn, fp, fn, tp = confusion_matrix(y_test, y_pred).ravel()\n",
        "    specificity = tn / (tn + fp)\n",
        "    specificity_scores.append(specificity)\n",
        "\n",
        "# Calculate mean and standard deviation of accuracy scores\n",
        "mean_accuracy = np.mean(accuracy_scores)\n",
        "std_accuracy = np.std(accuracy_scores)\n",
        "print(f\"Mean cross-validated accuracy: {mean_accuracy}\")\n",
        "print(f\"Standard deviation of cross-validated accuracy: {std_accuracy}\")\n",
        "\n",
        "# Calculate mean and standard deviation of ROC AUC scores\n",
        "mean_roc_auc = np.mean(roc_auc_scores)\n",
        "std_roc_auc = np.std(roc_auc_scores)\n",
        "print(f\"Mean cross-validated ROC AUC score: {mean_roc_auc}\")\n",
        "print(f\"Standard deviation of cross-validated ROC AUC score: {std_roc_auc}\")\n",
        "\n",
        "# Calculate mean and standard deviation of precision scores\n",
        "mean_precision = np.mean(precision_scores)\n",
        "std_precision = np.std(precision_scores)\n",
        "print(f\"Mean cross-validated precision: {mean_precision}\")\n",
        "print(f\"Standard deviation of cross-validated precision: {std_precision}\")\n",
        "\n",
        "# Calculate mean and standard deviation of specificity scores\n",
        "mean_specificity = np.mean(specificity_scores)\n",
        "std_specificity = np.std(specificity_scores)\n",
        "print(f\"Mean cross-validated specificity: {mean_specificity}\")\n",
        "print(f\"Standard deviation of cross-validated specificity: {std_specificity}\")\n",
        "\n",
        "#Recall\n",
        "mean_recall = np.mean(recall_scores)\n",
        "std_recall = np.std(recall_scores)\n",
        "print(f\"Mean cross-validated recall: {mean_recall}\")\n",
        "print(f\"Standard deviation of cross-validated recall: {std_recall}\")\n",
        "\n",
        "\n"
      ],
      "metadata": {
        "colab": {
          "base_uri": "https://localhost:8080/"
        },
        "id": "LEPibXqT4xet",
        "outputId": "1c651dd7-aff0-49b8-ee50-4f64ae5448d5"
      },
      "execution_count": null,
      "outputs": [
        {
          "output_type": "stream",
          "name": "stdout",
          "text": [
            "Mean cross-validated accuracy: 0.9845959872733989\n",
            "Standard deviation of cross-validated accuracy: 2.8241594096645956e-06\n",
            "Mean cross-validated ROC AUC score: 0.7940036501734584\n",
            "Standard deviation of cross-validated ROC AUC score: 0.002043225236011312\n",
            "Mean cross-validated precision: 0.5323809523809524\n",
            "Standard deviation of cross-validated precision: 0.106064413749125\n",
            "Mean cross-validated specificity: 0.9999928876479949\n",
            "Standard deviation of cross-validated specificity: 3.775405887218117e-06\n",
            "Mean cross-validated recall: 0.0005180061630175585\n",
            "Standard deviation of cross-validated recall: 0.0002608674690856981\n"
          ]
        }
      ]
    },
    {
      "cell_type": "code",
      "source": [
        "y_train.value_counts()"
      ],
      "metadata": {
        "colab": {
          "base_uri": "https://localhost:8080/",
          "height": 178
        },
        "id": "SeU9a1Z7xPMW",
        "outputId": "398d3bc6-1a92-45e6-b3d5-23b481775ef1"
      },
      "execution_count": null,
      "outputs": [
        {
          "output_type": "execute_result",
          "data": {
            "text/plain": [
              "label\n",
              "0        6045820\n",
              "1          94593\n",
              "Name: count, dtype: int64"
            ],
            "text/html": [
              "<div>\n",
              "<style scoped>\n",
              "    .dataframe tbody tr th:only-of-type {\n",
              "        vertical-align: middle;\n",
              "    }\n",
              "\n",
              "    .dataframe tbody tr th {\n",
              "        vertical-align: top;\n",
              "    }\n",
              "\n",
              "    .dataframe thead th {\n",
              "        text-align: right;\n",
              "    }\n",
              "</style>\n",
              "<table border=\"1\" class=\"dataframe\">\n",
              "  <thead>\n",
              "    <tr style=\"text-align: right;\">\n",
              "      <th></th>\n",
              "      <th>count</th>\n",
              "    </tr>\n",
              "    <tr>\n",
              "      <th>label</th>\n",
              "      <th></th>\n",
              "    </tr>\n",
              "  </thead>\n",
              "  <tbody>\n",
              "    <tr>\n",
              "      <th>0</th>\n",
              "      <td>6045820</td>\n",
              "    </tr>\n",
              "    <tr>\n",
              "      <th>1</th>\n",
              "      <td>94593</td>\n",
              "    </tr>\n",
              "  </tbody>\n",
              "</table>\n",
              "</div><br><label><b>dtype:</b> int64</label>"
            ]
          },
          "metadata": {},
          "execution_count": 32
        }
      ]
    },
    {
      "cell_type": "code",
      "source": [
        "# Using the fitted model from above testing on the test data above getting the metric outputs\n",
        "\n",
        "\n",
        "#xgb_clf = xgb.XGBClassifier(learning_rate= .1, max_depth= 4, n_estimators = 150, objective='binary:logistic', eval_metric='logloss', use_label_encoder=False, random_state=404)\n",
        "\n",
        "#xgb_clf.fit(x_train, y_train)\n",
        "\n",
        "# Predict on the test set\n",
        "y_pred = best_xgb_clf.predict(x_test)\n",
        "y_pred_proba = best_xgb_clf.predict_proba(x_test)[:, 1]\n",
        "\n",
        "print(y_pred_proba)\n",
        "\n",
        "# Calculate accuracy\n",
        "accuracy = accuracy_score(y_test, y_pred)\n",
        "print(f\"Accuracy: {accuracy}\")\n",
        "\n",
        "# Calculate ROC AUC score\n",
        "roc_auc = roc_auc_score(y_test, y_pred_proba)\n",
        "print(f\"Roc AUC: {roc_auc}\")\n",
        "\n",
        "# Calculate precision\n",
        "precision = precision_score(y_test, y_pred)\n",
        "print(f\"Precision: {precision}\")\n",
        "\n",
        "# Calculate specificity\n",
        "tn, fp, fn, tp = confusion_matrix(y_test, y_pred).ravel()\n",
        "specificity = tn / (tn + fp)\n",
        "print(f\"Specificity: {specificity}\")\n",
        "\n",
        "#Calculate recall\n",
        "recall = recall_score(y_test, y_pred)\n",
        "print(f\"Recall: {recall}\")"
      ],
      "metadata": {
        "id": "NYrL92M27WeE",
        "colab": {
          "base_uri": "https://localhost:8080/"
        },
        "outputId": "dcefb5a0-fa7c-4bf1-e5ec-86cf7592fad6"
      },
      "execution_count": null,
      "outputs": [
        {
          "output_type": "stream",
          "name": "stdout",
          "text": [
            "[0.00783364 0.00895196 0.00137333 ... 0.01002157 0.02045812 0.01076711]\n",
            "Accuracy: 0.9840115067122488\n",
            "Roc AUC: 0.7827641642287189\n",
            "Precision: 0.47368421052631576\n",
            "Specificity: 0.9999933799429483\n",
            "Recall: 0.0003667033370003667\n"
          ]
        }
      ]
    },
    {
      "cell_type": "markdown",
      "source": [],
      "metadata": {
        "id": "94RuETpmte31"
      }
    },
    {
      "cell_type": "code",
      "source": [
        "y_test.shape"
      ],
      "metadata": {
        "colab": {
          "base_uri": "https://localhost:8080/"
        },
        "id": "nFo1xjcOtfW7",
        "outputId": "6afadb38-189e-4859-fcfa-8c0a191eb90c"
      },
      "execution_count": null,
      "outputs": [
        {
          "output_type": "execute_result",
          "data": {
            "text/plain": [
              "(1535104, 1)"
            ]
          },
          "metadata": {},
          "execution_count": 28
        }
      ]
    },
    {
      "cell_type": "code",
      "source": [
        "#Feature importance for test data\n",
        "\n",
        "# feature importances from the trained model\n",
        "feature_importances = best_xgb_clf.feature_importances_\n",
        "\n",
        "# feature names and their importance scores\n",
        "feature_names = x_test.columns\n",
        "importance_df = pd.DataFrame({'feature': feature_names, 'importance': feature_importances})\n",
        "\n",
        "# Sort by importance and top 10 features\n",
        "top_features = importance_df.sort_values(by=\"importance\", ascending=False).head(10)\n",
        "\n",
        "# Plot\n",
        "plt.figure(figsize=(10, 6))\n",
        "plt.barh(top_features['feature'], top_features['importance'], color='red')\n",
        "plt.gca().invert_yaxis()\n",
        "plt.xlabel('Feature Importance Score')\n",
        "plt.title('Top 10 Most Important Features')\n",
        "plt.show()"
      ],
      "metadata": {
        "id": "RCJXHMuF9aBV",
        "colab": {
          "base_uri": "https://localhost:8080/",
          "height": 552
        },
        "outputId": "f9132fc1-cf0f-4e0e-fe8e-dfeef137fa42"
      },
      "execution_count": null,
      "outputs": [
        {
          "output_type": "display_data",
          "data": {
            "text/plain": [
              "<Figure size 1000x600 with 1 Axes>"
            ],
            "image/png": "[encoded data removed]"
          },
          "metadata": {}
        }
      ]
    }
  ]
}